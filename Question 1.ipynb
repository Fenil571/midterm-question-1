{
  "nbformat": 4,
  "nbformat_minor": 0,
  "metadata": {
    "colab": {
      "provenance": []
    },
    "kernelspec": {
      "name": "python3",
      "display_name": "Python 3"
    },
    "language_info": {
      "name": "python"
    }
  },
  "cells": [
    {
      "cell_type": "markdown",
      "source": [
        "Question"
      ],
      "metadata": {
        "id": "Jj_TSbsNNwaH"
      }
    },
    {
      "cell_type": "markdown",
      "source": [
        "__int()__: Constructor that takes as input a pair of Point objects that represent the ends points of the line segment\n",
        "\n",
        "Length():: returns the length if the segment\n",
        "\n",
        "Slope() returns the slope of the segment of none if the slope is unbounded\n",
        "\n",
        "\n",
        "\n",
        ">>> p1 = Point(3,4)\n",
        "\n",
        ">>> p2 = Point()\n",
        "\n",
        ">>> s = Segment(p1,p2)\n",
        "\n",
        ">>> s.length()\n",
        "\n",
        "5.0\n",
        "\n",
        ">>> s.slope()\n",
        "\n",
        "0.75"
      ],
      "metadata": {
        "id": "b9a31iaTPn-W"
      }
    },
    {
      "cell_type": "code",
      "source": [
        "import math\n",
        "\n",
        "# Define the Point class\n",
        "class Point:\n",
        "    def __init__(self, x=0, y=0):\n",
        "        self.x = x\n",
        "        self.y = y\n",
        "\n",
        "# Define the Segment class\n",
        "class Segment:\n",
        "    def __init__(self, p1, p2):\n",
        "        self.p1 = p1\n",
        "        self.p2 = p2\n",
        "\n",
        "    def length(self):\n",
        "        # Calculate the Euclidean distance\n",
        "        return math.sqrt((self.p2.x - self.p1.x)**2 + (self.p2.y - self.p1.y)**2)\n",
        "\n",
        "    def slope(self):\n",
        "        # Calculate the slope,\n",
        "        if (self.p2.x - self.p1.x) == 0:\n",
        "            return None\n",
        "        return (self.p2.y - self.p1.x) / (self.p2.x - self.p1.x)\n",
        "\n",
        "\n",
        "p1 = Point(0, 0)  # First point\n",
        "p2 = Point(4, 3)  # Second point\n",
        "\n",
        "s = Segment(p1, p2)\n",
        "\n",
        "# Length of the segment\n",
        "print(\"Length:\", s.length())\n",
        "\n",
        "# Slope of the segment\n",
        "print(\"Slope:\", s.slope())\n"
      ],
      "metadata": {
        "colab": {
          "base_uri": "https://localhost:8080/"
        },
        "id": "MUx8uGCrOR2f",
        "outputId": "95a8461e-10be-46e3-b789-02576ccbab16"
      },
      "execution_count": 5,
      "outputs": [
        {
          "output_type": "stream",
          "name": "stdout",
          "text": [
            "Length: 5.0\n",
            "Slope: 0.75\n"
          ]
        }
      ]
    },
    {
      "cell_type": "code",
      "source": [],
      "metadata": {
        "id": "l3CQQCOjOlxU"
      },
      "execution_count": 4,
      "outputs": []
    }
  ]
}